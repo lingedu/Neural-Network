{
 "cells": [
  {
   "cell_type": "markdown",
   "metadata": {},
   "source": [
    "# Deep Learning Practice\n",
    "![](img/cover.jpg)\n",
    "Credit: [coursera](https://www.coursera.org/learn/deep-learning-business) \n",
    "\n",
    "In this repository, I practice some basic deep learnging models to predict the hand-written digits. I implement multi-Layer neural network by scratch with Numpy. I also practice to implement the neural network by Pytorch and Karas. Besides of multi-Layer model, I also using convolutionary neraul network (CNN, which is a popular skills in image classification) to make prediction.\n",
    "\n",
    "MNIST is a popular hand-written digits database which are often taken as a good practice subject for beginners in deep leanrning. MINST data set: https://github.com/hsjeong5/MNIST-for-Numpy.\n",
    "\n",
    "\n",
    "\n",
    "\n",
    "\n",
    "\n",
    "\n"
   ]
  },
  {
   "cell_type": "code",
   "execution_count": null,
   "metadata": {},
   "outputs": [],
   "source": []
  }
 ],
 "metadata": {
  "kernelspec": {
   "display_name": "Python 3",
   "language": "python",
   "name": "python3"
  },
  "language_info": {
   "codemirror_mode": {
    "name": "ipython",
    "version": 3
   },
   "file_extension": ".py",
   "mimetype": "text/x-python",
   "name": "python",
   "nbconvert_exporter": "python",
   "pygments_lexer": "ipython3",
   "version": "3.6.6"
  }
 },
 "nbformat": 4,
 "nbformat_minor": 2
}
